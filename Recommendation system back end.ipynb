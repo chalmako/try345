{
 "cells": [
  {
   "cell_type": "code",
   "execution_count": 1,
   "id": "edb51431",
   "metadata": {
    "ExecuteTime": {
     "end_time": "2024-03-21T07:59:26.793474700Z",
     "start_time": "2024-03-21T07:59:10.586453300Z"
    }
   },
   "outputs": [
    {
     "name": "stdout",
     "output_type": "stream",
     "text": [
      "Defaulting to user installation because normal site-packages is not writeable\n",
      "Requirement already satisfied: matplotlib in c:\\programdata\\anaconda3\\lib\\site-packages (3.7.2)\n",
      "Requirement already satisfied: contourpy>=1.0.1 in c:\\programdata\\anaconda3\\lib\\site-packages (from matplotlib) (1.0.5)\n",
      "Requirement already satisfied: cycler>=0.10 in c:\\programdata\\anaconda3\\lib\\site-packages (from matplotlib) (0.11.0)\n",
      "Requirement already satisfied: fonttools>=4.22.0 in c:\\programdata\\anaconda3\\lib\\site-packages (from matplotlib) (4.25.0)\n",
      "Requirement already satisfied: kiwisolver>=1.0.1 in c:\\programdata\\anaconda3\\lib\\site-packages (from matplotlib) (1.4.4)\n",
      "Requirement already satisfied: numpy>=1.20 in c:\\programdata\\anaconda3\\lib\\site-packages (from matplotlib) (1.24.3)\n",
      "Requirement already satisfied: packaging>=20.0 in c:\\programdata\\anaconda3\\lib\\site-packages (from matplotlib) (23.1)\n",
      "Requirement already satisfied: pillow>=6.2.0 in c:\\programdata\\anaconda3\\lib\\site-packages (from matplotlib) (9.4.0)\n",
      "Requirement already satisfied: pyparsing<3.1,>=2.3.1 in c:\\programdata\\anaconda3\\lib\\site-packages (from matplotlib) (3.0.9)\n",
      "Requirement already satisfied: python-dateutil>=2.7 in c:\\programdata\\anaconda3\\lib\\site-packages (from matplotlib) (2.8.2)\n",
      "Requirement already satisfied: six>=1.5 in c:\\programdata\\anaconda3\\lib\\site-packages (from python-dateutil>=2.7->matplotlib) (1.16.0)\n",
      "Note: you may need to restart the kernel to use updated packages.\n"
     ]
    }
   ],
   "source": [
    "pip install matplotlib"
   ]
  },
  {
   "cell_type": "code",
   "execution_count": 2,
   "id": "7bee9b73",
   "metadata": {
    "ExecuteTime": {
     "end_time": "2024-03-21T07:59:26.835417500Z",
     "start_time": "2024-03-21T07:59:26.788664Z"
    }
   },
   "outputs": [],
   "source": [
    "import numpy as np\n",
    "import pandas as pd\n",
    "import matplotlib as plt"
   ]
  },
  {
   "cell_type": "markdown",
   "id": "2822305c",
   "metadata": {},
   "source": [
    "# Importing Data"
   ]
  },
  {
   "cell_type": "code",
   "execution_count": 3,
   "id": "5b6f8884",
   "metadata": {
    "ExecuteTime": {
     "end_time": "2024-03-21T07:59:27.039607700Z",
     "start_time": "2024-03-21T07:59:26.813172200Z"
    }
   },
   "outputs": [
    {
     "data": {
      "text/plain": "    N   P   K  temperature   humidity        ph    rainfall label\n0  90  42  43    20.879744  82.002744  6.502985  202.935536  rice\n1  85  58  41    21.770462  80.319644  7.038096  226.655537  rice\n2  60  55  44    23.004459  82.320763  7.840207  263.964248  rice\n3  74  35  40    26.491096  80.158363  6.980401  242.864034  rice\n4  78  42  42    20.130175  81.604873  7.628473  262.717340  rice",
      "text/html": "<div>\n<style scoped>\n    .dataframe tbody tr th:only-of-type {\n        vertical-align: middle;\n    }\n\n    .dataframe tbody tr th {\n        vertical-align: top;\n    }\n\n    .dataframe thead th {\n        text-align: right;\n    }\n</style>\n<table border=\"1\" class=\"dataframe\">\n  <thead>\n    <tr style=\"text-align: right;\">\n      <th></th>\n      <th>N</th>\n      <th>P</th>\n      <th>K</th>\n      <th>temperature</th>\n      <th>humidity</th>\n      <th>ph</th>\n      <th>rainfall</th>\n      <th>label</th>\n    </tr>\n  </thead>\n  <tbody>\n    <tr>\n      <th>0</th>\n      <td>90</td>\n      <td>42</td>\n      <td>43</td>\n      <td>20.879744</td>\n      <td>82.002744</td>\n      <td>6.502985</td>\n      <td>202.935536</td>\n      <td>rice</td>\n    </tr>\n    <tr>\n      <th>1</th>\n      <td>85</td>\n      <td>58</td>\n      <td>41</td>\n      <td>21.770462</td>\n      <td>80.319644</td>\n      <td>7.038096</td>\n      <td>226.655537</td>\n      <td>rice</td>\n    </tr>\n    <tr>\n      <th>2</th>\n      <td>60</td>\n      <td>55</td>\n      <td>44</td>\n      <td>23.004459</td>\n      <td>82.320763</td>\n      <td>7.840207</td>\n      <td>263.964248</td>\n      <td>rice</td>\n    </tr>\n    <tr>\n      <th>3</th>\n      <td>74</td>\n      <td>35</td>\n      <td>40</td>\n      <td>26.491096</td>\n      <td>80.158363</td>\n      <td>6.980401</td>\n      <td>242.864034</td>\n      <td>rice</td>\n    </tr>\n    <tr>\n      <th>4</th>\n      <td>78</td>\n      <td>42</td>\n      <td>42</td>\n      <td>20.130175</td>\n      <td>81.604873</td>\n      <td>7.628473</td>\n      <td>262.717340</td>\n      <td>rice</td>\n    </tr>\n  </tbody>\n</table>\n</div>"
     },
     "execution_count": 3,
     "metadata": {},
     "output_type": "execute_result"
    }
   ],
   "source": [
    "crop = pd.read_csv(\"Crop_recommendation.csv\")\n",
    "crop.head()"
   ]
  },
  {
   "cell_type": "markdown",
   "id": "e9ddfb22",
   "metadata": {},
   "source": [
    "# Asq Six Question to yourself"
   ]
  },
  {
   "cell_type": "code",
   "execution_count": 4,
   "id": "3ca70c00",
   "metadata": {
    "ExecuteTime": {
     "end_time": "2024-03-21T07:59:27.075155600Z",
     "start_time": "2024-03-21T07:59:26.917373700Z"
    }
   },
   "outputs": [
    {
     "data": {
      "text/plain": "(2200, 8)"
     },
     "execution_count": 4,
     "metadata": {},
     "output_type": "execute_result"
    }
   ],
   "source": [
    "crop.shape"
   ]
  },
  {
   "cell_type": "code",
   "execution_count": 5,
   "id": "e2ae9b60",
   "metadata": {
    "ExecuteTime": {
     "end_time": "2024-03-21T07:59:27.152249Z",
     "start_time": "2024-03-21T07:59:26.972584600Z"
    }
   },
   "outputs": [
    {
     "name": "stdout",
     "output_type": "stream",
     "text": [
      "<class 'pandas.core.frame.DataFrame'>\n",
      "RangeIndex: 2200 entries, 0 to 2199\n",
      "Data columns (total 8 columns):\n",
      " #   Column       Non-Null Count  Dtype  \n",
      "---  ------       --------------  -----  \n",
      " 0   N            2200 non-null   int64  \n",
      " 1   P            2200 non-null   int64  \n",
      " 2   K            2200 non-null   int64  \n",
      " 3   temperature  2200 non-null   float64\n",
      " 4   humidity     2200 non-null   float64\n",
      " 5   ph           2200 non-null   float64\n",
      " 6   rainfall     2200 non-null   float64\n",
      " 7   label        2200 non-null   object \n",
      "dtypes: float64(4), int64(3), object(1)\n",
      "memory usage: 137.6+ KB\n"
     ]
    }
   ],
   "source": [
    "crop.info()"
   ]
  },
  {
   "cell_type": "code",
   "execution_count": 6,
   "id": "9efad4c4",
   "metadata": {
    "ExecuteTime": {
     "end_time": "2024-03-21T07:59:27.216773100Z",
     "start_time": "2024-03-21T07:59:27.037103500Z"
    }
   },
   "outputs": [
    {
     "data": {
      "text/plain": "N              0\nP              0\nK              0\ntemperature    0\nhumidity       0\nph             0\nrainfall       0\nlabel          0\ndtype: int64"
     },
     "execution_count": 6,
     "metadata": {},
     "output_type": "execute_result"
    }
   ],
   "source": [
    "crop.isnull().sum()"
   ]
  },
  {
   "cell_type": "code",
   "execution_count": 7,
   "id": "1f7bf8c5",
   "metadata": {
    "ExecuteTime": {
     "end_time": "2024-03-21T07:59:27.253525300Z",
     "start_time": "2024-03-21T07:59:27.076463300Z"
    }
   },
   "outputs": [
    {
     "data": {
      "text/plain": "0"
     },
     "execution_count": 7,
     "metadata": {},
     "output_type": "execute_result"
    }
   ],
   "source": [
    "crop.duplicated().sum()"
   ]
  },
  {
   "cell_type": "code",
   "execution_count": 8,
   "id": "3d5b7413",
   "metadata": {
    "scrolled": false,
    "ExecuteTime": {
     "end_time": "2024-03-21T07:59:27.729453300Z",
     "start_time": "2024-03-21T07:59:27.114236800Z"
    }
   },
   "outputs": [
    {
     "data": {
      "text/plain": "                 N            P            K  temperature     humidity  \\\ncount  2200.000000  2200.000000  2200.000000  2200.000000  2200.000000   \nmean     50.551818    53.362727    48.149091    25.616244    71.481779   \nstd      36.917334    32.985883    50.647931     5.063749    22.263812   \nmin       0.000000     5.000000     5.000000     8.825675    14.258040   \n25%      21.000000    28.000000    20.000000    22.769375    60.261953   \n50%      37.000000    51.000000    32.000000    25.598693    80.473146   \n75%      84.250000    68.000000    49.000000    28.561654    89.948771   \nmax     140.000000   145.000000   205.000000    43.675493    99.981876   \n\n                ph     rainfall  \ncount  2200.000000  2200.000000  \nmean      6.469480   103.463655  \nstd       0.773938    54.958389  \nmin       3.504752    20.211267  \n25%       5.971693    64.551686  \n50%       6.425045    94.867624  \n75%       6.923643   124.267508  \nmax       9.935091   298.560117  ",
      "text/html": "<div>\n<style scoped>\n    .dataframe tbody tr th:only-of-type {\n        vertical-align: middle;\n    }\n\n    .dataframe tbody tr th {\n        vertical-align: top;\n    }\n\n    .dataframe thead th {\n        text-align: right;\n    }\n</style>\n<table border=\"1\" class=\"dataframe\">\n  <thead>\n    <tr style=\"text-align: right;\">\n      <th></th>\n      <th>N</th>\n      <th>P</th>\n      <th>K</th>\n      <th>temperature</th>\n      <th>humidity</th>\n      <th>ph</th>\n      <th>rainfall</th>\n    </tr>\n  </thead>\n  <tbody>\n    <tr>\n      <th>count</th>\n      <td>2200.000000</td>\n      <td>2200.000000</td>\n      <td>2200.000000</td>\n      <td>2200.000000</td>\n      <td>2200.000000</td>\n      <td>2200.000000</td>\n      <td>2200.000000</td>\n    </tr>\n    <tr>\n      <th>mean</th>\n      <td>50.551818</td>\n      <td>53.362727</td>\n      <td>48.149091</td>\n      <td>25.616244</td>\n      <td>71.481779</td>\n      <td>6.469480</td>\n      <td>103.463655</td>\n    </tr>\n    <tr>\n      <th>std</th>\n      <td>36.917334</td>\n      <td>32.985883</td>\n      <td>50.647931</td>\n      <td>5.063749</td>\n      <td>22.263812</td>\n      <td>0.773938</td>\n      <td>54.958389</td>\n    </tr>\n    <tr>\n      <th>min</th>\n      <td>0.000000</td>\n      <td>5.000000</td>\n      <td>5.000000</td>\n      <td>8.825675</td>\n      <td>14.258040</td>\n      <td>3.504752</td>\n      <td>20.211267</td>\n    </tr>\n    <tr>\n      <th>25%</th>\n      <td>21.000000</td>\n      <td>28.000000</td>\n      <td>20.000000</td>\n      <td>22.769375</td>\n      <td>60.261953</td>\n      <td>5.971693</td>\n      <td>64.551686</td>\n    </tr>\n    <tr>\n      <th>50%</th>\n      <td>37.000000</td>\n      <td>51.000000</td>\n      <td>32.000000</td>\n      <td>25.598693</td>\n      <td>80.473146</td>\n      <td>6.425045</td>\n      <td>94.867624</td>\n    </tr>\n    <tr>\n      <th>75%</th>\n      <td>84.250000</td>\n      <td>68.000000</td>\n      <td>49.000000</td>\n      <td>28.561654</td>\n      <td>89.948771</td>\n      <td>6.923643</td>\n      <td>124.267508</td>\n    </tr>\n    <tr>\n      <th>max</th>\n      <td>140.000000</td>\n      <td>145.000000</td>\n      <td>205.000000</td>\n      <td>43.675493</td>\n      <td>99.981876</td>\n      <td>9.935091</td>\n      <td>298.560117</td>\n    </tr>\n  </tbody>\n</table>\n</div>"
     },
     "execution_count": 8,
     "metadata": {},
     "output_type": "execute_result"
    }
   ],
   "source": [
    "crop.describe()"
   ]
  },
  {
   "cell_type": "code",
   "execution_count": 8,
   "id": "cea17e12",
   "metadata": {
    "ExecuteTime": {
     "end_time": "2024-03-21T07:59:27.774194700Z",
     "start_time": "2024-03-21T07:59:27.263210400Z"
    }
   },
   "outputs": [],
   "source": []
  },
  {
   "cell_type": "markdown",
   "id": "b10cce9f",
   "metadata": {},
   "source": [
    "# Exploring Data"
   ]
  },
  {
   "cell_type": "markdown",
   "id": "3e3af150",
   "metadata": {},
   "source": [
    "# Encoding"
   ]
  },
  {
   "cell_type": "code",
   "execution_count": 9,
   "id": "8c35d395",
   "metadata": {
    "ExecuteTime": {
     "end_time": "2024-03-21T07:59:27.778587300Z",
     "start_time": "2024-03-21T07:59:27.279772700Z"
    }
   },
   "outputs": [],
   "source": [
    "crop_dict = {\n",
    "    'rice': 1,\n",
    "    'maize': 2,\n",
    "    'jute': 3,\n",
    "    'cotton': 4,\n",
    "    'coconut': 5,\n",
    "    'papaya': 6,\n",
    "    'orange': 7,\n",
    "    'apple': 8,\n",
    "    'muskmelon': 9,\n",
    "    'watermelon': 10,\n",
    "    'grapes': 11,\n",
    "    'mango': 12,\n",
    "    'banana': 13,\n",
    "    'pomegranate': 14,\n",
    "    'lentil': 15,\n",
    "    'blackgram': 16,\n",
    "    'mungbean': 17,\n",
    "    'mothbeans': 18,\n",
    "    'pigeonpeas': 19,\n",
    "    'kidneybeans': 20,\n",
    "    'chickpea': 21,\n",
    "    'coffee': 22\n",
    "}\n",
    "crop['crop_num']=crop['label'].map(crop_dict)"
   ]
  },
  {
   "cell_type": "code",
   "execution_count": 10,
   "id": "b1a53f7f",
   "metadata": {
    "ExecuteTime": {
     "end_time": "2024-03-21T07:59:27.845495900Z",
     "start_time": "2024-03-21T07:59:27.322504700Z"
    }
   },
   "outputs": [
    {
     "data": {
      "text/plain": "crop_num\n1     100\n2     100\n3     100\n4     100\n5     100\n6     100\n7     100\n8     100\n9     100\n10    100\n11    100\n12    100\n13    100\n14    100\n15    100\n16    100\n17    100\n18    100\n19    100\n20    100\n21    100\n22    100\nName: count, dtype: int64"
     },
     "execution_count": 10,
     "metadata": {},
     "output_type": "execute_result"
    }
   ],
   "source": [
    "crop['crop_num'].value_counts()"
   ]
  },
  {
   "cell_type": "code",
   "execution_count": 11,
   "id": "dff5caca",
   "metadata": {
    "ExecuteTime": {
     "end_time": "2024-03-21T07:59:27.855974500Z",
     "start_time": "2024-03-21T07:59:27.359532700Z"
    }
   },
   "outputs": [
    {
     "data": {
      "text/plain": "    N   P   K  temperature   humidity        ph    rainfall label  crop_num\n0  90  42  43    20.879744  82.002744  6.502985  202.935536  rice         1\n1  85  58  41    21.770462  80.319644  7.038096  226.655537  rice         1\n2  60  55  44    23.004459  82.320763  7.840207  263.964248  rice         1\n3  74  35  40    26.491096  80.158363  6.980401  242.864034  rice         1\n4  78  42  42    20.130175  81.604873  7.628473  262.717340  rice         1",
      "text/html": "<div>\n<style scoped>\n    .dataframe tbody tr th:only-of-type {\n        vertical-align: middle;\n    }\n\n    .dataframe tbody tr th {\n        vertical-align: top;\n    }\n\n    .dataframe thead th {\n        text-align: right;\n    }\n</style>\n<table border=\"1\" class=\"dataframe\">\n  <thead>\n    <tr style=\"text-align: right;\">\n      <th></th>\n      <th>N</th>\n      <th>P</th>\n      <th>K</th>\n      <th>temperature</th>\n      <th>humidity</th>\n      <th>ph</th>\n      <th>rainfall</th>\n      <th>label</th>\n      <th>crop_num</th>\n    </tr>\n  </thead>\n  <tbody>\n    <tr>\n      <th>0</th>\n      <td>90</td>\n      <td>42</td>\n      <td>43</td>\n      <td>20.879744</td>\n      <td>82.002744</td>\n      <td>6.502985</td>\n      <td>202.935536</td>\n      <td>rice</td>\n      <td>1</td>\n    </tr>\n    <tr>\n      <th>1</th>\n      <td>85</td>\n      <td>58</td>\n      <td>41</td>\n      <td>21.770462</td>\n      <td>80.319644</td>\n      <td>7.038096</td>\n      <td>226.655537</td>\n      <td>rice</td>\n      <td>1</td>\n    </tr>\n    <tr>\n      <th>2</th>\n      <td>60</td>\n      <td>55</td>\n      <td>44</td>\n      <td>23.004459</td>\n      <td>82.320763</td>\n      <td>7.840207</td>\n      <td>263.964248</td>\n      <td>rice</td>\n      <td>1</td>\n    </tr>\n    <tr>\n      <th>3</th>\n      <td>74</td>\n      <td>35</td>\n      <td>40</td>\n      <td>26.491096</td>\n      <td>80.158363</td>\n      <td>6.980401</td>\n      <td>242.864034</td>\n      <td>rice</td>\n      <td>1</td>\n    </tr>\n    <tr>\n      <th>4</th>\n      <td>78</td>\n      <td>42</td>\n      <td>42</td>\n      <td>20.130175</td>\n      <td>81.604873</td>\n      <td>7.628473</td>\n      <td>262.717340</td>\n      <td>rice</td>\n      <td>1</td>\n    </tr>\n  </tbody>\n</table>\n</div>"
     },
     "execution_count": 11,
     "metadata": {},
     "output_type": "execute_result"
    }
   ],
   "source": [
    "# crop.drop(['label'],axis=1,inplace=True)\n",
    "crop.head()"
   ]
  },
  {
   "cell_type": "markdown",
   "id": "a5494675",
   "metadata": {},
   "source": [
    "# Train Test Split"
   ]
  },
  {
   "cell_type": "code",
   "execution_count": 12,
   "id": "5a049f55",
   "metadata": {
    "ExecuteTime": {
     "end_time": "2024-03-21T07:59:27.883010500Z",
     "start_time": "2024-03-21T07:59:27.429657900Z"
    }
   },
   "outputs": [],
   "source": [
    "X = crop.drop(['crop_num','label'],axis=1)\n",
    "y = crop['crop_num']"
   ]
  },
  {
   "cell_type": "code",
   "execution_count": 13,
   "id": "9d223a69",
   "metadata": {
    "ExecuteTime": {
     "end_time": "2024-03-21T07:59:28.101571200Z",
     "start_time": "2024-03-21T07:59:27.445149Z"
    }
   },
   "outputs": [
    {
     "data": {
      "text/plain": "        N   P   K  temperature   humidity        ph    rainfall\n0      90  42  43    20.879744  82.002744  6.502985  202.935536\n1      85  58  41    21.770462  80.319644  7.038096  226.655537\n2      60  55  44    23.004459  82.320763  7.840207  263.964248\n3      74  35  40    26.491096  80.158363  6.980401  242.864034\n4      78  42  42    20.130175  81.604873  7.628473  262.717340\n...   ...  ..  ..          ...        ...       ...         ...\n2195  107  34  32    26.774637  66.413269  6.780064  177.774507\n2196   99  15  27    27.417112  56.636362  6.086922  127.924610\n2197  118  33  30    24.131797  67.225123  6.362608  173.322839\n2198  117  32  34    26.272418  52.127394  6.758793  127.175293\n2199  104  18  30    23.603016  60.396475  6.779833  140.937041\n\n[2200 rows x 7 columns]",
      "text/html": "<div>\n<style scoped>\n    .dataframe tbody tr th:only-of-type {\n        vertical-align: middle;\n    }\n\n    .dataframe tbody tr th {\n        vertical-align: top;\n    }\n\n    .dataframe thead th {\n        text-align: right;\n    }\n</style>\n<table border=\"1\" class=\"dataframe\">\n  <thead>\n    <tr style=\"text-align: right;\">\n      <th></th>\n      <th>N</th>\n      <th>P</th>\n      <th>K</th>\n      <th>temperature</th>\n      <th>humidity</th>\n      <th>ph</th>\n      <th>rainfall</th>\n    </tr>\n  </thead>\n  <tbody>\n    <tr>\n      <th>0</th>\n      <td>90</td>\n      <td>42</td>\n      <td>43</td>\n      <td>20.879744</td>\n      <td>82.002744</td>\n      <td>6.502985</td>\n      <td>202.935536</td>\n    </tr>\n    <tr>\n      <th>1</th>\n      <td>85</td>\n      <td>58</td>\n      <td>41</td>\n      <td>21.770462</td>\n      <td>80.319644</td>\n      <td>7.038096</td>\n      <td>226.655537</td>\n    </tr>\n    <tr>\n      <th>2</th>\n      <td>60</td>\n      <td>55</td>\n      <td>44</td>\n      <td>23.004459</td>\n      <td>82.320763</td>\n      <td>7.840207</td>\n      <td>263.964248</td>\n    </tr>\n    <tr>\n      <th>3</th>\n      <td>74</td>\n      <td>35</td>\n      <td>40</td>\n      <td>26.491096</td>\n      <td>80.158363</td>\n      <td>6.980401</td>\n      <td>242.864034</td>\n    </tr>\n    <tr>\n      <th>4</th>\n      <td>78</td>\n      <td>42</td>\n      <td>42</td>\n      <td>20.130175</td>\n      <td>81.604873</td>\n      <td>7.628473</td>\n      <td>262.717340</td>\n    </tr>\n    <tr>\n      <th>...</th>\n      <td>...</td>\n      <td>...</td>\n      <td>...</td>\n      <td>...</td>\n      <td>...</td>\n      <td>...</td>\n      <td>...</td>\n    </tr>\n    <tr>\n      <th>2195</th>\n      <td>107</td>\n      <td>34</td>\n      <td>32</td>\n      <td>26.774637</td>\n      <td>66.413269</td>\n      <td>6.780064</td>\n      <td>177.774507</td>\n    </tr>\n    <tr>\n      <th>2196</th>\n      <td>99</td>\n      <td>15</td>\n      <td>27</td>\n      <td>27.417112</td>\n      <td>56.636362</td>\n      <td>6.086922</td>\n      <td>127.924610</td>\n    </tr>\n    <tr>\n      <th>2197</th>\n      <td>118</td>\n      <td>33</td>\n      <td>30</td>\n      <td>24.131797</td>\n      <td>67.225123</td>\n      <td>6.362608</td>\n      <td>173.322839</td>\n    </tr>\n    <tr>\n      <th>2198</th>\n      <td>117</td>\n      <td>32</td>\n      <td>34</td>\n      <td>26.272418</td>\n      <td>52.127394</td>\n      <td>6.758793</td>\n      <td>127.175293</td>\n    </tr>\n    <tr>\n      <th>2199</th>\n      <td>104</td>\n      <td>18</td>\n      <td>30</td>\n      <td>23.603016</td>\n      <td>60.396475</td>\n      <td>6.779833</td>\n      <td>140.937041</td>\n    </tr>\n  </tbody>\n</table>\n<p>2200 rows × 7 columns</p>\n</div>"
     },
     "execution_count": 13,
     "metadata": {},
     "output_type": "execute_result"
    }
   ],
   "source": [
    "X"
   ]
  },
  {
   "cell_type": "markdown",
   "id": "7c11f2f4",
   "metadata": {
    "ExecuteTime": {
     "end_time": "2024-02-26T10:21:54.121118800Z",
     "start_time": "2024-02-26T10:21:53.746791100Z"
    }
   },
   "source": [
    "# The shape of the data"
   ]
  },
  {
   "cell_type": "code",
   "execution_count": 14,
   "id": "c561ea31",
   "metadata": {
    "ExecuteTime": {
     "end_time": "2024-03-21T07:59:28.180312500Z",
     "start_time": "2024-03-21T07:59:27.562167200Z"
    }
   },
   "outputs": [
    {
     "data": {
      "text/plain": "(2200,)"
     },
     "execution_count": 14,
     "metadata": {},
     "output_type": "execute_result"
    }
   ],
   "source": [
    "y.shape"
   ]
  },
  {
   "cell_type": "code",
   "execution_count": 15,
   "id": "caba8efb",
   "metadata": {
    "ExecuteTime": {
     "end_time": "2024-03-21T07:59:29.138566400Z",
     "start_time": "2024-03-21T07:59:27.739167100Z"
    }
   },
   "outputs": [],
   "source": [
    "from sklearn.model_selection import train_test_split"
   ]
  },
  {
   "cell_type": "code",
   "execution_count": 16,
   "id": "6774a9dd",
   "metadata": {
    "ExecuteTime": {
     "end_time": "2024-03-21T07:59:29.366369500Z",
     "start_time": "2024-03-21T07:59:28.945596700Z"
    }
   },
   "outputs": [],
   "source": [
    "\n",
    "X_train, X_test, y_train, y_test = train_test_split(X, y, test_size=0.2, random_state=42)"
   ]
  },
  {
   "cell_type": "code",
   "execution_count": 17,
   "id": "bf57e524",
   "metadata": {
    "ExecuteTime": {
     "end_time": "2024-03-21T07:59:29.474181200Z",
     "start_time": "2024-03-21T07:59:29.011468500Z"
    }
   },
   "outputs": [
    {
     "data": {
      "text/plain": "(1760, 7)"
     },
     "execution_count": 17,
     "metadata": {},
     "output_type": "execute_result"
    }
   ],
   "source": [
    "X_train.shape"
   ]
  },
  {
   "cell_type": "code",
   "execution_count": 18,
   "id": "81d69b3e",
   "metadata": {
    "ExecuteTime": {
     "end_time": "2024-03-21T07:59:29.502387Z",
     "start_time": "2024-03-21T07:59:29.047475500Z"
    }
   },
   "outputs": [
    {
     "data": {
      "text/plain": "(440, 7)"
     },
     "execution_count": 18,
     "metadata": {},
     "output_type": "execute_result"
    }
   ],
   "source": [
    "X_test.shape"
   ]
  },
  {
   "cell_type": "code",
   "execution_count": 19,
   "id": "20ec83a7",
   "metadata": {
    "ExecuteTime": {
     "end_time": "2024-03-21T07:59:29.537369400Z",
     "start_time": "2024-03-21T07:59:29.075733400Z"
    }
   },
   "outputs": [
    {
     "data": {
      "text/plain": "        N    P    K  temperature   humidity        ph    rainfall\n1656   17   16   14    16.396243  92.181519  6.625539  102.944161\n752    37   79   19    27.543848  69.347863  7.143943   69.408782\n892     7   73   25    27.521856  63.132153  7.288057   45.208411\n1041  101   70   48    25.360592  75.031933  6.012697  116.553145\n1179    0   17   30    35.474783  47.972305  6.279134   97.790725\n...   ...  ...  ...          ...        ...       ...         ...\n1638   10    5    5    21.213070  91.353492  7.817846  112.983436\n1095  108   94   47    27.359116  84.546250  6.387431   90.812505\n1130   11   36   31    27.920633  51.779659  6.475449  100.258567\n1294   11  124  204    13.429886  80.066340  6.361141   71.400430\n860    32   78   22    23.970814  62.355576  7.007038   53.409060\n\n[1760 rows x 7 columns]",
      "text/html": "<div>\n<style scoped>\n    .dataframe tbody tr th:only-of-type {\n        vertical-align: middle;\n    }\n\n    .dataframe tbody tr th {\n        vertical-align: top;\n    }\n\n    .dataframe thead th {\n        text-align: right;\n    }\n</style>\n<table border=\"1\" class=\"dataframe\">\n  <thead>\n    <tr style=\"text-align: right;\">\n      <th></th>\n      <th>N</th>\n      <th>P</th>\n      <th>K</th>\n      <th>temperature</th>\n      <th>humidity</th>\n      <th>ph</th>\n      <th>rainfall</th>\n    </tr>\n  </thead>\n  <tbody>\n    <tr>\n      <th>1656</th>\n      <td>17</td>\n      <td>16</td>\n      <td>14</td>\n      <td>16.396243</td>\n      <td>92.181519</td>\n      <td>6.625539</td>\n      <td>102.944161</td>\n    </tr>\n    <tr>\n      <th>752</th>\n      <td>37</td>\n      <td>79</td>\n      <td>19</td>\n      <td>27.543848</td>\n      <td>69.347863</td>\n      <td>7.143943</td>\n      <td>69.408782</td>\n    </tr>\n    <tr>\n      <th>892</th>\n      <td>7</td>\n      <td>73</td>\n      <td>25</td>\n      <td>27.521856</td>\n      <td>63.132153</td>\n      <td>7.288057</td>\n      <td>45.208411</td>\n    </tr>\n    <tr>\n      <th>1041</th>\n      <td>101</td>\n      <td>70</td>\n      <td>48</td>\n      <td>25.360592</td>\n      <td>75.031933</td>\n      <td>6.012697</td>\n      <td>116.553145</td>\n    </tr>\n    <tr>\n      <th>1179</th>\n      <td>0</td>\n      <td>17</td>\n      <td>30</td>\n      <td>35.474783</td>\n      <td>47.972305</td>\n      <td>6.279134</td>\n      <td>97.790725</td>\n    </tr>\n    <tr>\n      <th>...</th>\n      <td>...</td>\n      <td>...</td>\n      <td>...</td>\n      <td>...</td>\n      <td>...</td>\n      <td>...</td>\n      <td>...</td>\n    </tr>\n    <tr>\n      <th>1638</th>\n      <td>10</td>\n      <td>5</td>\n      <td>5</td>\n      <td>21.213070</td>\n      <td>91.353492</td>\n      <td>7.817846</td>\n      <td>112.983436</td>\n    </tr>\n    <tr>\n      <th>1095</th>\n      <td>108</td>\n      <td>94</td>\n      <td>47</td>\n      <td>27.359116</td>\n      <td>84.546250</td>\n      <td>6.387431</td>\n      <td>90.812505</td>\n    </tr>\n    <tr>\n      <th>1130</th>\n      <td>11</td>\n      <td>36</td>\n      <td>31</td>\n      <td>27.920633</td>\n      <td>51.779659</td>\n      <td>6.475449</td>\n      <td>100.258567</td>\n    </tr>\n    <tr>\n      <th>1294</th>\n      <td>11</td>\n      <td>124</td>\n      <td>204</td>\n      <td>13.429886</td>\n      <td>80.066340</td>\n      <td>6.361141</td>\n      <td>71.400430</td>\n    </tr>\n    <tr>\n      <th>860</th>\n      <td>32</td>\n      <td>78</td>\n      <td>22</td>\n      <td>23.970814</td>\n      <td>62.355576</td>\n      <td>7.007038</td>\n      <td>53.409060</td>\n    </tr>\n  </tbody>\n</table>\n<p>1760 rows × 7 columns</p>\n</div>"
     },
     "execution_count": 19,
     "metadata": {},
     "output_type": "execute_result"
    }
   ],
   "source": [
    "X_train"
   ]
  },
  {
   "cell_type": "markdown",
   "id": "ab13cdf8",
   "metadata": {},
   "source": [
    "\n",
    "# Scale the features using MinMaxScaler"
   ]
  },
  {
   "cell_type": "code",
   "execution_count": 20,
   "id": "f19981a7",
   "metadata": {
    "ExecuteTime": {
     "end_time": "2024-03-21T07:59:29.567451500Z",
     "start_time": "2024-03-21T07:59:29.133270200Z"
    }
   },
   "outputs": [],
   "source": [
    "from sklearn.preprocessing import MinMaxScaler\n",
    "ms = MinMaxScaler()\n",
    "\n",
    "X_train = ms.fit_transform(X_train)\n",
    "X_test = ms.transform(X_test)"
   ]
  },
  {
   "cell_type": "code",
   "execution_count": 21,
   "id": "f3f50c64",
   "metadata": {
    "ExecuteTime": {
     "end_time": "2024-03-21T07:59:29.628086100Z",
     "start_time": "2024-03-21T07:59:29.169038300Z"
    }
   },
   "outputs": [
    {
     "data": {
      "text/plain": "array([[0.12142857, 0.07857143, 0.045     , ..., 0.9089898 , 0.48532225,\n        0.29685161],\n       [0.26428571, 0.52857143, 0.07      , ..., 0.64257946, 0.56594073,\n        0.17630752],\n       [0.05      , 0.48571429, 0.1       , ..., 0.57005802, 0.58835229,\n        0.08931844],\n       ...,\n       [0.07857143, 0.22142857, 0.13      , ..., 0.43760347, 0.46198144,\n        0.28719815],\n       [0.07857143, 0.85      , 0.995     , ..., 0.76763665, 0.44420505,\n        0.18346657],\n       [0.22857143, 0.52142857, 0.085     , ..., 0.56099735, 0.54465022,\n        0.11879596]])"
     },
     "execution_count": 21,
     "metadata": {},
     "output_type": "execute_result"
    }
   ],
   "source": [
    "X_train"
   ]
  },
  {
   "cell_type": "markdown",
   "id": "f773f2ff",
   "metadata": {},
   "source": [
    "# Standarization"
   ]
  },
  {
   "cell_type": "code",
   "execution_count": 22,
   "id": "9099b5ac",
   "metadata": {
    "ExecuteTime": {
     "end_time": "2024-03-21T07:59:29.663169500Z",
     "start_time": "2024-03-21T07:59:29.202624900Z"
    }
   },
   "outputs": [],
   "source": [
    "from sklearn.preprocessing import StandardScaler\n",
    "sc = StandardScaler()\n",
    "\n",
    "\n",
    "sc.fit(X_train)\n",
    "X_train = sc.transform(X_train)\n",
    "X_test = sc.transform(X_test)"
   ]
  },
  {
   "cell_type": "code",
   "execution_count": 23,
   "id": "1f4fd4c5",
   "metadata": {
    "ExecuteTime": {
     "end_time": "2024-03-21T07:59:29.668198400Z",
     "start_time": "2024-03-21T07:59:29.232090600Z"
    }
   },
   "outputs": [
    {
     "data": {
      "text/plain": "array([[-9.03426596e-01, -1.12616170e+00, -6.68506601e-01, ...,\n         9.36586183e-01,  1.93473784e-01,  5.14970176e-03],\n       [-3.67051340e-01,  7.70358846e-01, -5.70589522e-01, ...,\n        -1.00470485e-01,  8.63917548e-01, -6.05290566e-01],\n       [-1.17161422e+00,  5.89737842e-01, -4.53089028e-01, ...,\n        -3.82774991e-01,  1.05029771e+00, -1.04580687e+00],\n       ...,\n       [-1.06433917e+00, -5.24091685e-01, -3.35588533e-01, ...,\n        -8.98381379e-01, -6.34357580e-04, -4.37358211e-02],\n       [-1.06433917e+00,  2.12501638e+00,  3.05234239e+00, ...,\n         3.86340190e-01, -1.48467347e-01, -5.69036842e-01],\n       [-5.01145154e-01,  7.40255346e-01, -5.11839275e-01, ...,\n        -4.18045489e-01,  6.86860180e-01, -8.96531475e-01]])"
     },
     "execution_count": 23,
     "metadata": {},
     "output_type": "execute_result"
    }
   ],
   "source": [
    "X_train"
   ]
  },
  {
   "cell_type": "markdown",
   "id": "752a08ae",
   "metadata": {},
   "source": [
    "# Training Models"
   ]
  },
  {
   "cell_type": "code",
   "execution_count": 24,
   "id": "ac6ef55e",
   "metadata": {
    "ExecuteTime": {
     "end_time": "2024-03-21T07:59:51.561004Z",
     "start_time": "2024-03-21T07:59:29.311260900Z"
    }
   },
   "outputs": [
    {
     "name": "stdout",
     "output_type": "stream",
     "text": [
      "Logistic Regression  with accuracy : 0.9636363636363636\n",
      "Naive Bayes  with accuracy : 0.9954545454545455\n",
      "Support Vector Machine  with accuracy : 0.9681818181818181\n",
      "K-Nearest Neighbors  with accuracy : 0.9590909090909091\n",
      "Decision Tree  with accuracy : 0.9840909090909091\n",
      "Random Forest  with accuracy : 0.9931818181818182\n",
      "Bagging  with accuracy : 0.9840909090909091\n"
     ]
    },
    {
     "name": "stderr",
     "output_type": "stream",
     "text": [
      "C:\\Users\\winfr\\AppData\\Roaming\\Python\\Python311\\site-packages\\sklearn\\ensemble\\_weight_boosting.py:519: FutureWarning: The SAMME.R algorithm (the default) is deprecated and will be removed in 1.6. Use the SAMME algorithm to circumvent this warning.\n",
      "  warnings.warn(\n"
     ]
    },
    {
     "name": "stdout",
     "output_type": "stream",
     "text": [
      "AdaBoost  with accuracy : 0.1409090909090909\n",
      "Gradient Boosting  with accuracy : 0.9818181818181818\n",
      "Extra Trees  with accuracy : 0.9136363636363637\n"
     ]
    }
   ],
   "source": [
    "from sklearn.linear_model import LogisticRegression\n",
    "from sklearn.naive_bayes import GaussianNB\n",
    "from sklearn.svm import SVC\n",
    "from sklearn.neighbors import KNeighborsClassifier\n",
    "from sklearn.tree import DecisionTreeClassifier\n",
    "from sklearn.tree import ExtraTreeClassifier\n",
    "from sklearn.ensemble import RandomForestClassifier\n",
    "from sklearn.ensemble import BaggingClassifier\n",
    "from sklearn.ensemble import GradientBoostingClassifier\n",
    "from sklearn.ensemble import AdaBoostClassifier\n",
    "from sklearn.metrics import accuracy_score\n",
    "\n",
    "# create instances of all models\n",
    "models = {\n",
    "    'Logistic Regression': LogisticRegression(),\n",
    "    'Naive Bayes': GaussianNB(),\n",
    "    'Support Vector Machine': SVC(),\n",
    "    'K-Nearest Neighbors': KNeighborsClassifier(),\n",
    "    'Decision Tree': DecisionTreeClassifier(),\n",
    "    'Random Forest': RandomForestClassifier(),\n",
    "    'Bagging': BaggingClassifier(),\n",
    "    'AdaBoost': AdaBoostClassifier(),\n",
    "    'Gradient Boosting': GradientBoostingClassifier(),\n",
    "    'Extra Trees': ExtraTreeClassifier(),\n",
    "}\n",
    "\n",
    "\n",
    "for name, md in models.items():\n",
    "    md.fit(X_train,y_train)\n",
    "    ypred = md.predict(X_test)\n",
    "    \n",
    "    print(f\"{name}  with accuracy : {accuracy_score(y_test,ypred)}\")"
   ]
  },
  {
   "cell_type": "code",
   "execution_count": 25,
   "id": "4659be4d",
   "metadata": {
    "ExecuteTime": {
     "end_time": "2024-03-21T07:59:52.288049700Z",
     "start_time": "2024-03-21T07:59:51.544080200Z"
    }
   },
   "outputs": [
    {
     "data": {
      "text/plain": "0.9931818181818182"
     },
     "execution_count": 25,
     "metadata": {},
     "output_type": "execute_result"
    }
   ],
   "source": [
    "rfc = RandomForestClassifier()\n",
    "rfc.fit(X_train,y_train)\n",
    "ypred = rfc.predict(X_test)\n",
    "accuracy_score(y_test,ypred)"
   ]
  },
  {
   "cell_type": "code",
   "execution_count": 26,
   "id": "ce736842",
   "metadata": {
    "ExecuteTime": {
     "end_time": "2024-03-21T07:59:52.313821100Z",
     "start_time": "2024-03-21T07:59:52.289034800Z"
    }
   },
   "outputs": [],
   "source": [
    "import seaborn as sns"
   ]
  },
  {
   "cell_type": "code",
   "execution_count": 26,
   "id": "e8d4823d",
   "metadata": {
    "ExecuteTime": {
     "end_time": "2024-03-21T07:59:52.313854400Z",
     "start_time": "2024-03-21T07:59:52.296546700Z"
    }
   },
   "outputs": [],
   "source": []
  },
  {
   "cell_type": "markdown",
   "id": "859d9922",
   "metadata": {},
   "source": [
    "# Predictive System"
   ]
  },
  {
   "cell_type": "code",
   "execution_count": 27,
   "id": "17f3a3fe",
   "metadata": {
    "ExecuteTime": {
     "end_time": "2024-03-21T07:59:52.412921900Z",
     "start_time": "2024-03-21T07:59:52.306556600Z"
    }
   },
   "outputs": [],
   "source": [
    "def recommendation(N,P,k,temperature,humidity,ph,rainfal):\n",
    "    features = np.array([[N,P,k,temperature,humidity,ph,rainfal]])\n",
    "    transformed_features = ms.fit_transform(features)\n",
    "    transformed_features = sc.fit_transform(transformed_features)\n",
    "    prediction = rfc.predict(transformed_features).reshape(1,-1)\n",
    "    \n",
    "    return prediction[0] "
   ]
  },
  {
   "cell_type": "code",
   "execution_count": 28,
   "id": "64ffd9d3",
   "metadata": {
    "ExecuteTime": {
     "end_time": "2024-03-21T07:59:52.488390700Z",
     "start_time": "2024-03-21T07:59:52.345521300Z"
    }
   },
   "outputs": [
    {
     "name": "stdout",
     "output_type": "stream",
     "text": [
      "Papaya is a best crop to be cultivated \n"
     ]
    }
   ],
   "source": [
    "N = 60\n",
    "P = 40\n",
    "k = 50\n",
    "temperature = 40.0\n",
    "humidity = 20\n",
    "ph = 70\n",
    "rainfall = 80\n",
    "\n",
    "predict = recommendation(N,P,k,temperature,humidity,ph,rainfall)\n",
    "\n",
    "\n",
    "crop_dict = {1: \"Rice\", 2: \"Maize\", 3: \"Jute\", 4: \"Cotton\", 5: \"Coconut\", 6: \"Papaya\", 7: \"Orange\",\n",
    "                 8: \"Apple\", 9: \"Muskmelon\", 10: \"Watermelon\", 11: \"Grapes\", 12: \"Mango\", 13: \"Banana\",\n",
    "                 14: \"Pomegranate\", 15: \"Lentil\", 16: \"Blackgram\", 17: \"Mungbean\", 18: \"Mothbeans\",\n",
    "                 19: \"Pigeonpeas\", 20: \"Kidneybeans\", 21: \"Chickpea\", 22: \"Coffee\"}\n",
    "\n",
    "if predict[0] in crop_dict:\n",
    "    crop = crop_dict[predict[0]]\n",
    "    print(\"{} is a best crop to be cultivated \".format(crop))\n",
    "else:\n",
    "    print(\"Sorry are not able to recommend a proper crop for this environment\")"
   ]
  },
  {
   "cell_type": "code",
   "execution_count": 29,
   "id": "fa3d3b8c",
   "metadata": {
    "ExecuteTime": {
     "end_time": "2024-03-21T07:59:52.539116400Z",
     "start_time": "2024-03-21T07:59:52.427107900Z"
    }
   },
   "outputs": [],
   "source": [
    "import pickle\n",
    "pickle.dump(rfc,open('model.pkl','wb'))\n",
    "pickle.dump(ms,open('minmaxscaler.pkl','wb'))\n",
    "pickle.dump(sc,open('standscaler.pkl','wb'))"
   ]
  },
  {
   "cell_type": "code",
   "execution_count": 29,
   "id": "3b6761ac",
   "metadata": {
    "ExecuteTime": {
     "end_time": "2024-03-21T07:59:52.577816300Z",
     "start_time": "2024-03-21T07:59:52.503892300Z"
    }
   },
   "outputs": [],
   "source": []
  }
 ],
 "metadata": {
  "kernelspec": {
   "display_name": "Python 3 (ipykernel)",
   "language": "python",
   "name": "python3"
  },
  "language_info": {
   "codemirror_mode": {
    "name": "ipython",
    "version": 3
   },
   "file_extension": ".py",
   "mimetype": "text/x-python",
   "name": "python",
   "nbconvert_exporter": "python",
   "pygments_lexer": "ipython3",
   "version": "3.11.5"
  }
 },
 "nbformat": 4,
 "nbformat_minor": 5
}
